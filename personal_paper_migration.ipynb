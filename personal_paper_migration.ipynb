{
 "cells": [
  {
   "cell_type": "markdown",
   "metadata": {},
   "source": [
    "### Connect to your own Dropbox folder through dropbox API\n",
    "- You can get a Dropbox API key here: https://www.dropbox.com/developers\n",
    "- Click the permissions tab in the API page and check all read and write access under individual scopes\n",
    "- Go to settings tab and generate an access token, that would be the API key you need\n",
    "- Save the API key in a .env file in the same directory as this notebook, with the following format: paperApiKey='YOUR_API_KEY'\n",
    "- Import the required packages"
   ]
  },
  {
   "cell_type": "code",
   "execution_count": 1,
   "metadata": {},
   "outputs": [
    {
     "name": "stdout",
     "output_type": "stream",
     "text": [
      "Initializing Dropbox API...\n",
      "Dropbox connection successful. Connected as: Kyle Deng\n"
     ]
    }
   ],
   "source": [
    "import dropbox\n",
    "from dotenv import load_dotenv\n",
    "import os\n",
    "from pathlib import Path\n",
    "from tqdm import tqdm\n",
    "import pypandoc\n",
    "\n",
    "load_dotenv()\n",
    "paperApiKey = os.getenv('paperApiKey')\n",
    "print(\"Initializing Dropbox API...\")\n",
    "dbx = dropbox.Dropbox(paperApiKey)\n",
    "try:\n",
    "    account_info = dbx.users_get_current_account()\n",
    "    print(f\"Dropbox connection successful. Connected as: {account_info.name.display_name}\")\n",
    "except Exception as e:\n",
    "    print(f\"Error connecting to Dropbox: {e}\")"
   ]
  },
  {
   "cell_type": "markdown",
   "metadata": {},
   "source": [
    "### Migrating paper files in personal Dropbox\n",
    "- You will need to install pandoc on your local machine to convert the markdown files to word files\n",
    "- You can install pandoc from here: https://pandoc.org/installing.html"
   ]
  },
  {
   "cell_type": "code",
   "execution_count": null,
   "metadata": {},
   "outputs": [
    {
     "name": "stderr",
     "output_type": "stream",
     "text": [
      "Searching Dropbox pages: 103page [01:09,  1.47page/s]\n"
     ]
    },
    {
     "name": "stdout",
     "output_type": "stream",
     "text": [
      "Found 2 Paper files in your Dropbox account.\n"
     ]
    },
    {
     "name": "stderr",
     "output_type": "stream",
     "text": [
      "Converting Paper files:  50%|█████     | 1/2 [00:01<00:01,  1.19s/file]"
     ]
    },
    {
     "name": "stdout",
     "output_type": "stream",
     "text": [
      "Error converting markdown to DOCX for /2024 smart churning minutes.paper: Output to docx only works by using a outputfile.\n"
     ]
    },
    {
     "name": "stderr",
     "output_type": "stream",
     "text": [
      "Converting Paper files: 100%|██████████| 2/2 [00:02<00:00,  1.29s/file]"
     ]
    },
    {
     "name": "stdout",
     "output_type": "stream",
     "text": [
      "Error converting markdown to DOCX for /paper docs/task tracking - data analytics_org.paper: Output to docx only works by using a outputfile.\n"
     ]
    },
    {
     "name": "stderr",
     "output_type": "stream",
     "text": [
      "\n"
     ]
    }
   ],
   "source": [
    "def convert_all_dropbox_paper_docs(dbx):\n",
    "    \"\"\"\n",
    "    Searches the entire Dropbox account for .paper files, exports each one as a Markdown file,\n",
    "    saves the Markdown file locally in the same relative path as its Dropbox location,\n",
    "    converts it to a Word (DOCX) document saved in that same location, and then deletes the Markdown file.\n",
    "    \n",
    "    Assumes that your current working directory is the base for the local mirror of your Dropbox structure.\n",
    "    \n",
    "    Parameters:\n",
    "        dbx (dropbox.Dropbox): An authenticated Dropbox client.\n",
    "    \"\"\"\n",
    "    # List all files in the Dropbox account recursively.\n",
    "    result = dbx.files_list_folder(\"\", recursive=True)\n",
    "    paper_files = [entry for entry in result.entries\n",
    "                   if isinstance(entry, dropbox.files.FileMetadata) and entry.name.lower().endswith('.paper')]\n",
    "    pbar = tqdm(desc=\"Searching Dropbox pages\", unit=\"page\")\n",
    "    pbar.update(1)\n",
    "    # Handle pagination.\n",
    "    while result.has_more:\n",
    "        result = dbx.files_list_folder_continue(result.cursor)\n",
    "        paper_files.extend([entry for entry in result.entries\n",
    "                            if isinstance(entry, dropbox.files.FileMetadata) and entry.name.lower().endswith('.paper')])\n",
    "        pbar.update(1)\n",
    "    pbar.close()\n",
    "    \n",
    "    print(f\"Found {len(paper_files)} Paper files in your Dropbox account.\")\n",
    "\n",
    "    # Retrieve the current user's account information.\n",
    "    user_name = dbx.users_get_current_account().name.display_name\n",
    "\n",
    "    # Process each .paper file.\n",
    "    for file_meta in tqdm(paper_files, desc=\"Converting Paper files\", unit=\"file\"):\n",
    "        # Determine the base file name (without extension).\n",
    "        base_name = os.path.splitext(file_meta.name)[0]\n",
    "        \n",
    "        # Build a local directory that mirrors the Dropbox file's path.\n",
    "        # file_meta.path_lower is something like \"/Folder1/Subfolder/filename.paper\"\n",
    "        # We remove the leading slash and get the directory part.\n",
    "        relative_dir = os.path.dirname(file_meta.path_lower).lstrip(\"/\")\n",
    "        local_dir = os.path.join(Path(os.path.join(os.path.expanduser(\"~\"), f\"Arca Dropbox/{user_name}/\")), relative_dir)\n",
    "        os.makedirs(local_dir, exist_ok=True)\n",
    "        \n",
    "        # Define local file paths.\n",
    "        local_docx_path = os.path.join(local_dir, base_name + \".docx\")\n",
    "        \n",
    "        # Export the Paper file as Markdown using Dropbox API.\n",
    "        try:\n",
    "            md_metadata, md_res = dbx.files_export(file_meta.path_lower, export_format=\"markdown\")\n",
    "            # md_res.content is in bytes; decode it to a string.\n",
    "            md_text = md_res.content\n",
    "        except Exception as e:\n",
    "            tqdm.write(f\"Error exporting {file_meta.path_lower} as Markdown: {e}\")\n",
    "            continue\n",
    "\n",
    "        # Convert the Markdown text to DOCX content in memory.\n",
    "        try:\n",
    "            docx_text = pypandoc.convert_text(md_text, 'docx', format='md')\n",
    "        except Exception as e:\n",
    "            tqdm.write(f\"Error converting markdown to DOCX for {file_meta.path_lower}: {e}\")\n",
    "            continue\n",
    "\n",
    "        # Now write the DOCX content to disk.\n",
    "        try:\n",
    "            with open(local_docx_path, \"wb\") as f:\n",
    "                f.write(docx_text.encode('utf-8'))\n",
    "        except Exception as e:\n",
    "            tqdm.write(f\"Error saving DOCX file {local_docx_path}: {e}\")\n",
    "\n",
    "convert_all_dropbox_paper_docs(dbx)"
   ]
  }
 ],
 "metadata": {
  "kernelspec": {
   "display_name": "base",
   "language": "python",
   "name": "python3"
  },
  "language_info": {
   "codemirror_mode": {
    "name": "ipython",
    "version": 3
   },
   "file_extension": ".py",
   "mimetype": "text/x-python",
   "name": "python",
   "nbconvert_exporter": "python",
   "pygments_lexer": "ipython3",
   "version": "3.12.0"
  }
 },
 "nbformat": 4,
 "nbformat_minor": 2
}
